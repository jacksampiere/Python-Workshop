{
 "cells": [
  {
   "cell_type": "markdown",
   "metadata": {},
   "source": [
    "# Chapter 2 Exercises"
   ]
  },
  {
   "cell_type": "markdown",
   "metadata": {},
   "source": [
    "## 2.1 What Does This Code Do?"
   ]
  },
  {
   "cell_type": "markdown",
   "metadata": {},
   "source": [
    "Create the variables x = 2 and y = 3, then determine what each of the following statements displays."
   ]
  },
  {
   "cell_type": "code",
   "execution_count": 25,
   "metadata": {},
   "outputs": [],
   "source": [
    "x = 2\n",
    "y = 3"
   ]
  },
  {
   "cell_type": "markdown",
   "metadata": {},
   "source": [
    "### a."
   ]
  },
  {
   "cell_type": "markdown",
   "metadata": {},
   "source": [
    "```python\n",
    "print('x =', x)\n",
    "```"
   ]
  },
  {
   "cell_type": "markdown",
   "metadata": {},
   "source": [
    "This code prints \"x = 2\""
   ]
  },
  {
   "cell_type": "code",
   "execution_count": 28,
   "metadata": {},
   "outputs": [
    {
     "name": "stdout",
     "output_type": "stream",
     "text": [
      "x = 2\n"
     ]
    }
   ],
   "source": [
    "print('x =', x)"
   ]
  },
  {
   "cell_type": "markdown",
   "metadata": {},
   "source": [
    "### b."
   ]
  },
  {
   "cell_type": "markdown",
   "metadata": {},
   "source": [
    "```python\n",
    "print('Value of', x, '+', x, 'is', (x + x))\n",
    "```"
   ]
  },
  {
   "cell_type": "markdown",
   "metadata": {},
   "source": [
    "This code prints \"Value of 2 + 2 is 4\""
   ]
  },
  {
   "cell_type": "code",
   "execution_count": 29,
   "metadata": {},
   "outputs": [
    {
     "name": "stdout",
     "output_type": "stream",
     "text": [
      "Value of 2 + 2 is 4\n"
     ]
    }
   ],
   "source": [
    "print('Value of', x, '+', x, 'is', (x + x))"
   ]
  },
  {
   "cell_type": "markdown",
   "metadata": {},
   "source": [
    "### c."
   ]
  },
  {
   "cell_type": "markdown",
   "metadata": {},
   "source": [
    "```python\n",
    "print('x =')\n",
    "```"
   ]
  },
  {
   "cell_type": "markdown",
   "metadata": {},
   "source": [
    "This code prints \"x =\""
   ]
  },
  {
   "cell_type": "code",
   "execution_count": 30,
   "metadata": {},
   "outputs": [
    {
     "name": "stdout",
     "output_type": "stream",
     "text": [
      "x =\n"
     ]
    }
   ],
   "source": [
    "print('x =')"
   ]
  },
  {
   "cell_type": "markdown",
   "metadata": {},
   "source": [
    "### d."
   ]
  },
  {
   "cell_type": "markdown",
   "metadata": {},
   "source": [
    "```python\n",
    "print((x + y), 'x =', (y + x))\n",
    "```"
   ]
  },
  {
   "cell_type": "markdown",
   "metadata": {},
   "source": [
    "This code prints \"5 x = 5\""
   ]
  },
  {
   "cell_type": "code",
   "execution_count": 31,
   "metadata": {},
   "outputs": [
    {
     "name": "stdout",
     "output_type": "stream",
     "text": [
      "5 x = 5\n"
     ]
    }
   ],
   "source": [
    "print((x + y), 'x =', (y + x))"
   ]
  },
  {
   "cell_type": "markdown",
   "metadata": {},
   "source": [
    "## 2.2 What's Wrong With This Code?"
   ]
  },
  {
   "cell_type": "markdown",
   "metadata": {},
   "source": [
    "The following code should read an integer into the variable rating:"
   ]
  },
  {
   "cell_type": "code",
   "execution_count": 32,
   "metadata": {},
   "outputs": [
    {
     "name": "stdout",
     "output_type": "stream",
     "text": [
      "Enter an integer rating between 1 and 10: 5\n"
     ]
    }
   ],
   "source": [
    "rating = input('Enter an integer rating between 1 and 10: ')\n"
   ]
  },
  {
   "cell_type": "markdown",
   "metadata": {},
   "source": [
    "The problem with this code is that the `input()` function reads in strings by default. We can show this by trying to do arithmetic with input statements of this format:"
   ]
  },
  {
   "cell_type": "code",
   "execution_count": 35,
   "metadata": {},
   "outputs": [
    {
     "name": "stdout",
     "output_type": "stream",
     "text": [
      "Enter an integer rating between 1 and 10: 3\n",
      "Enter an integer rating between 1 and 10: 4\n",
      "34\n"
     ]
    }
   ],
   "source": [
    "rating1 = input('Enter an integer rating between 1 and 10: ')\n",
    "rating2 = input('Enter an integer rating between 1 and 10: ')\n",
    "print(rating1 + rating2)\n"
   ]
  },
  {
   "cell_type": "markdown",
   "metadata": {},
   "source": [
    "We can correct this by converting the string to an integer with the `int()` function:"
   ]
  },
  {
   "cell_type": "code",
   "execution_count": 36,
   "metadata": {},
   "outputs": [
    {
     "name": "stdout",
     "output_type": "stream",
     "text": [
      "Enter an integer rating between 1 and 10: 3\n",
      "Enter an integer rating between 1 and 10: 4\n",
      "7\n"
     ]
    }
   ],
   "source": [
    "rating1 = int(input('Enter an integer rating between 1 and 10: '))\n",
    "rating2 = int(input('Enter an integer rating between 1 and 10: '))\n",
    "print(rating1 + rating2)\n"
   ]
  },
  {
   "cell_type": "markdown",
   "metadata": {},
   "source": [
    "## 2.6 Odd or Even"
   ]
  },
  {
   "cell_type": "markdown",
   "metadata": {},
   "source": [
    "Use `if` statements to determine whether an integer is odd or even."
   ]
  },
  {
   "cell_type": "code",
   "execution_count": 37,
   "metadata": {},
   "outputs": [
    {
     "name": "stdout",
     "output_type": "stream",
     "text": [
      "Odd\n"
     ]
    }
   ],
   "source": [
    "num = 23\n",
    "# num = 2\n",
    "# num = 20\n",
    "# num = 15\n",
    "\n",
    "if num % 2 == 0:\n",
    "    print(\"Even\")\n",
    "    \n",
    "else:\n",
    "    print(\"Odd\")\n",
    "\n",
    "# note that this same code could be executed by checking if num % 2 == 1 and switching the print statements around\n"
   ]
  },
  {
   "cell_type": "markdown",
   "metadata": {},
   "source": [
    "## 2.10 Arithmetic, Smallest and Largest"
   ]
  },
  {
   "cell_type": "markdown",
   "metadata": {},
   "source": [
    "Write a script that inputs three integers from the user. Display the sum, average, product, smallest and largest of the numbers."
   ]
  },
  {
   "cell_type": "code",
   "execution_count": 38,
   "metadata": {},
   "outputs": [
    {
     "name": "stdout",
     "output_type": "stream",
     "text": [
      "Enter the first number: 3\n",
      "Enter the second number: 6\n",
      "Enter the third number: 9\n",
      "Sum: 18\n",
      "Average: 6.0\n",
      "Product: 162\n",
      "Smallest: 3\n",
      "Largest: 9\n"
     ]
    }
   ],
   "source": [
    "num1 = int(input('Enter the first number: '))\n",
    "num2 = int(input('Enter the second number: '))\n",
    "num3 = int(input('Enter the third number: '))\n",
    "total = num1 + num2 + num3\n",
    "print('Sum:', total)\n",
    "amtNums = 3\n",
    "print('Average:', total/amtNums) # could also use the mean function from the statistics library\n",
    "prod = num1 * num2 * num3\n",
    "print('Product:', prod)\n",
    "print('Smallest:', min(num1, num2, num3))\n",
    "print('Largest:', max(num1, num2, num3))\n"
   ]
  },
  {
   "cell_type": "markdown",
   "metadata": {},
   "source": [
    "## 2.12 7% Investment Return"
   ]
  },
  {
   "cell_type": "markdown",
   "metadata": {},
   "source": [
    "Some investment advisors say that it’s reasonable to expect a 7% return over the long term in the stock market. Assuming that you begin with $1000 and leave your money invested, calculate and display how much money you’ll have after 10, 20 and 30 years. Use the following formula for determining these amounts:\n",
    "\n",
    "`a = p(1 + r)n`\n",
    "\n",
    "where\n",
    "\n",
    "`p` is the original amount invested (i.e., the principal of $1000),\n",
    "\n",
    "`r` is the annual rate of return (7%),\n",
    "\n",
    "`n` is the number of years (10, 20 or 30), and\n",
    "\n",
    "`a` is the amount on deposit at the end of the n-th year."
   ]
  },
  {
   "cell_type": "code",
   "execution_count": 20,
   "metadata": {},
   "outputs": [
    {
     "name": "stdout",
     "output_type": "stream",
     "text": [
      "After 10 years: 1967.1513572895665\n",
      "After 20 years: 3869.6844624861833\n",
      "After 30 years: 7612.255042662042\n"
     ]
    }
   ],
   "source": [
    "initial = 1000\n",
    "rate = 7 # in percentage\n",
    "rate_converted = rate/100\n",
    "years1 = 10\n",
    "years2 = 20\n",
    "years3 = 30\n",
    "return1 = initial * (1 + rate_converted) ** years1\n",
    "return2 = initial * (1 + rate_converted) ** years2\n",
    "return3 = initial * (1 + rate_converted) ** years3\n",
    "print('After 10 years:', return1)\n",
    "print('After 20 years:', return2)\n",
    "print('After 30 years:', return3)\n"
   ]
  },
  {
   "cell_type": "markdown",
   "metadata": {},
   "source": [
    "## 2.13 How Big Can Python Integers Be?"
   ]
  },
  {
   "cell_type": "markdown",
   "metadata": {},
   "source": [
    "Use the exponentiation operator `**` with large and very large exponents to produce some huge integers and assign those to the variable `number` to see if Python accepts them. Did you find any integer value that Python won’t accept?"
   ]
  },
  {
   "cell_type": "code",
   "execution_count": 40,
   "metadata": {},
   "outputs": [
    {
     "name": "stdout",
     "output_type": "stream",
     "text": [
      "10000000000\n",
      "10000000000000000000000000000000000000000000000000000000000000000000000000000000000000000000000000000\n",
      "10000000000000000000000000000000000000000000000000000000000000000000000000000000000000000000000000000000000000000000000000000000000000000000000000000000000000000000000000000000000000000000000000000000000000000000000000000000000000000000000000000000000000000000000000000000000000000000000000000000000000000000000000000000000000000000000000000000000000000000000000000000000000000000000000000000000000000000000000000000000000000000000000000000000000000000000000000000000000000000000000000000000000000000000000000000000000000000000000000000000000000000000000000000000000000000000000000000000000000000000000000000000000000000000000000000000000000000000000000000000000000000000000000000000000000000000000000000000000000000000000000000000000000000000000000000000000000000000000000000000000000000000000000000000000000000000000000000000000000000000000000000000000000000000000000000000000000000000000000000000000000000000000000000000000000000000000000000000000000000000000000000000000000000000000000000000000000\n"
     ]
    }
   ],
   "source": [
    "number = 10 ** 10\n",
    "print(number)\n",
    "number = 10 ** 100\n",
    "print(number)\n",
    "number = 10 ** 1000\n",
    "print(number)\n"
   ]
  },
  {
   "cell_type": "markdown",
   "metadata": {},
   "source": [
    "## 2.11 Separating Digits in an Integer"
   ]
  },
  {
   "cell_type": "markdown",
   "metadata": {},
   "source": [
    "Write a script that inputs a five-digit integer from the user. Separate the number into its individual digits. Print them separated by three spaces each."
   ]
  },
  {
   "cell_type": "code",
   "execution_count": 41,
   "metadata": {},
   "outputs": [
    {
     "name": "stdout",
     "output_type": "stream",
     "text": [
      "Enter a 5-digit integer: 12345\n",
      "1   2   3   4   5\n"
     ]
    }
   ],
   "source": [
    "digits = int(input(\"Enter a 5-digit integer: \"))\n",
    "print(digits // 10000, digits % 10000 // 1000, digits % 1000 // 100, digits % 100 // 10, digits % 10, sep = '   ')\n",
    "# could also leave the input as a string and use a loop to grab each character by the index\n"
   ]
  },
  {
   "cell_type": "code",
   "execution_count": null,
   "metadata": {},
   "outputs": [],
   "source": []
  }
 ],
 "metadata": {
  "kernelspec": {
   "display_name": "Python 3",
   "language": "python",
   "name": "python3"
  },
  "language_info": {
   "codemirror_mode": {
    "name": "ipython",
    "version": 3
   },
   "file_extension": ".py",
   "mimetype": "text/x-python",
   "name": "python",
   "nbconvert_exporter": "python",
   "pygments_lexer": "ipython3",
   "version": "3.7.9"
  }
 },
 "nbformat": 4,
 "nbformat_minor": 4
}
