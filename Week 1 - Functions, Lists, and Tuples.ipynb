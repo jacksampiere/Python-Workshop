{
 "cells": [
  {
   "cell_type": "markdown",
   "metadata": {},
   "source": [
    "# Chapter 4 Exercises"
   ]
  },
  {
   "cell_type": "markdown",
   "metadata": {},
   "source": [
    "## 4.3 What's Wrong With This Code?\n",
    "What is wrong with the following cube function’s definition?"
   ]
  },
  {
   "cell_type": "markdown",
   "metadata": {},
   "source": [
    "```def cube(x):\n",
    "    \"\"\"Calculate the cube of x.\"\"\"\n",
    "    x ** 3\n",
    "print('The cube of 2 is', cube(2))```"
   ]
  },
  {
   "cell_type": "markdown",
   "metadata": {},
   "source": [
    "The problem with this function is that the function calculates the cube of the input variable but does not return it. If one were to assign a variable to a function call of this function (e.g. `a = cube(2)`), it would actually be assgined to a `None` type."
   ]
  },
  {
   "cell_type": "markdown",
   "metadata": {},
   "source": [
    "Corrected version:"
   ]
  },
  {
   "cell_type": "code",
   "execution_count": 1,
   "metadata": {},
   "outputs": [
    {
     "name": "stdout",
     "output_type": "stream",
     "text": [
      "The cube of 2 is 8\n"
     ]
    }
   ],
   "source": [
    "def cube(x):\n",
    "    \"\"\"Calculate the cube of x.\"\"\"\n",
    "    return x ** 3\n",
    "\n",
    "print('The cube of 2 is', cube(2))\n"
   ]
  },
  {
   "cell_type": "markdown",
   "metadata": {},
   "source": [
    "## 4.9 Temperature Conversion"
   ]
  },
  {
   "cell_type": "markdown",
   "metadata": {},
   "source": [
    "Implement a `fahrenheit` function that returns the Fahrenheit equivalent of a Celsius temperature. Use this function to print a chart showing the Fahrenheit equivalents of all Celsius temperatures in the range 0–100 degrees. Use one digit of precision for the results. Print the outputs in a neat tabular format."
   ]
  },
  {
   "cell_type": "code",
   "execution_count": 3,
   "metadata": {},
   "outputs": [
    {
     "name": "stdout",
     "output_type": "stream",
     "text": [
      "   Celsius Farenheit\n",
      "       0.0      32.0\n",
      "       1.0      33.8\n",
      "       2.0      35.6\n",
      "       3.0      37.4\n",
      "       4.0      39.2\n",
      "       5.0      41.0\n",
      "       6.0      42.8\n",
      "       7.0      44.6\n",
      "       8.0      46.4\n",
      "       9.0      48.2\n",
      "      10.0      50.0\n",
      "      11.0      51.8\n",
      "      12.0      53.6\n",
      "      13.0      55.4\n",
      "      14.0      57.2\n",
      "      15.0      59.0\n",
      "      16.0      60.8\n",
      "      17.0      62.6\n",
      "      18.0      64.4\n",
      "      19.0      66.2\n",
      "      20.0      68.0\n",
      "      21.0      69.8\n",
      "      22.0      71.6\n",
      "      23.0      73.4\n",
      "      24.0      75.2\n",
      "      25.0      77.0\n",
      "      26.0      78.8\n",
      "      27.0      80.6\n",
      "      28.0      82.4\n",
      "      29.0      84.2\n",
      "      30.0      86.0\n",
      "      31.0      87.8\n",
      "      32.0      89.6\n",
      "      33.0      91.4\n",
      "      34.0      93.2\n",
      "      35.0      95.0\n",
      "      36.0      96.8\n",
      "      37.0      98.6\n",
      "      38.0     100.4\n",
      "      39.0     102.2\n",
      "      40.0     104.0\n",
      "      41.0     105.8\n",
      "      42.0     107.6\n",
      "      43.0     109.4\n",
      "      44.0     111.2\n",
      "      45.0     113.0\n",
      "      46.0     114.8\n",
      "      47.0     116.6\n",
      "      48.0     118.4\n",
      "      49.0     120.2\n",
      "      50.0     122.0\n",
      "      51.0     123.8\n",
      "      52.0     125.6\n",
      "      53.0     127.4\n",
      "      54.0     129.2\n",
      "      55.0     131.0\n",
      "      56.0     132.8\n",
      "      57.0     134.6\n",
      "      58.0     136.4\n",
      "      59.0     138.2\n",
      "      60.0     140.0\n",
      "      61.0     141.8\n",
      "      62.0     143.6\n",
      "      63.0     145.4\n",
      "      64.0     147.2\n",
      "      65.0     149.0\n",
      "      66.0     150.8\n",
      "      67.0     152.6\n",
      "      68.0     154.4\n",
      "      69.0     156.2\n",
      "      70.0     158.0\n",
      "      71.0     159.8\n",
      "      72.0     161.6\n",
      "      73.0     163.4\n",
      "      74.0     165.2\n",
      "      75.0     167.0\n",
      "      76.0     168.8\n",
      "      77.0     170.6\n",
      "      78.0     172.4\n",
      "      79.0     174.2\n",
      "      80.0     176.0\n",
      "      81.0     177.8\n",
      "      82.0     179.6\n",
      "      83.0     181.4\n",
      "      84.0     183.2\n",
      "      85.0     185.0\n",
      "      86.0     186.8\n",
      "      87.0     188.6\n",
      "      88.0     190.4\n",
      "      89.0     192.2\n",
      "      90.0     194.0\n",
      "      91.0     195.8\n",
      "      92.0     197.6\n",
      "      93.0     199.4\n",
      "      94.0     201.2\n",
      "      95.0     203.0\n",
      "      96.0     204.8\n",
      "      97.0     206.6\n",
      "      98.0     208.4\n",
      "      99.0     210.2\n",
      "     100.0     212.0\n"
     ]
    }
   ],
   "source": [
    "def fahrenheit(deg_in_C):\n",
    "    \"\"\"Convert a Celsius temperature to Farenheit\"\"\"\n",
    "    deg_F = (9 / 5) * deg_in_C + 32\n",
    "    return deg_F\n",
    "\n",
    "print(f\"{'Celsius':>10}{'Farenheit':>10}\")\n",
    "\n",
    "for i in range(101):\n",
    "    c = float(i)\n",
    "    deg_F = fahrenheit(i)\n",
    "    print(f'{c:>10.1f}{deg_F:>10.1f}')\n",
    "    "
   ]
  },
  {
   "cell_type": "markdown",
   "metadata": {},
   "source": [
    "#### 4.14 Computer-Assisted Instruction"
   ]
  },
  {
   "cell_type": "markdown",
   "metadata": {},
   "source": [
    "Write a script to help an elementary school student learn multiplication. Create a function that randomly generates and returns a tuple of two positive one-digit integers. Use that function’s result in your script to prompt the user with a question, such as \n",
    "\n",
    "`\"How much is 6 times 7?\"`\n",
    "\n",
    "For a correct answer, display the message \"Very good!\" and ask another multiplication question. For an incorrect answer, display the message \"No. Please try again.\" and let the student try the same question repeatedly until the student finally gets it right."
   ]
  },
  {
   "cell_type": "code",
   "execution_count": 5,
   "metadata": {},
   "outputs": [
    {
     "name": "stdout",
     "output_type": "stream",
     "text": [
      "How much is 1 times 7?\n"
     ]
    },
    {
     "name": "stdin",
     "output_type": "stream",
     "text": [
      " 7\n"
     ]
    },
    {
     "name": "stdout",
     "output_type": "stream",
     "text": [
      "Very good!\n",
      "Continue? (y/n)\n"
     ]
    },
    {
     "name": "stdin",
     "output_type": "stream",
     "text": [
      " y\n"
     ]
    },
    {
     "name": "stdout",
     "output_type": "stream",
     "text": [
      "How much is 8 times 9?\n"
     ]
    },
    {
     "name": "stdin",
     "output_type": "stream",
     "text": [
      " 4\n"
     ]
    },
    {
     "name": "stdout",
     "output_type": "stream",
     "text": [
      "No. Please try again.\n",
      "How much is 8 times 9?\n"
     ]
    },
    {
     "name": "stdin",
     "output_type": "stream",
     "text": [
      " 72\n"
     ]
    },
    {
     "name": "stdout",
     "output_type": "stream",
     "text": [
      "Very good!\n",
      "Continue? (y/n)\n"
     ]
    },
    {
     "name": "stdin",
     "output_type": "stream",
     "text": [
      " n\n"
     ]
    },
    {
     "name": "stdout",
     "output_type": "stream",
     "text": [
      "bye!\n"
     ]
    }
   ],
   "source": [
    "import random\n",
    "\n",
    "def make_rand_tup():\n",
    "    \"\"\"Generate a tuple of random digits\"\"\"\n",
    "    return (random.randrange(1,10), random.randrange(1,10))\n",
    "\n",
    "def check_ans(val_tup, ans):\n",
    "    \"Check if multiplication was performed correctly\"\n",
    "    val1, val2 = val_tup\n",
    "    return val1 * val2 == ans\n",
    "\n",
    "n = 10 # initialize value to seed (arbitrary)\n",
    "random.seed(n)\n",
    "\n",
    "while True:\n",
    "\n",
    "    val1, val2 = make_rand_tup()\n",
    "    print(f'How much is {val1} times {val2}?')\n",
    "    prod = int(input())\n",
    "\n",
    "    if check_ans((val1, val2), prod):\n",
    "        print('Very good!')\n",
    "        print('Continue? (y/n)')\n",
    "        response = input()\n",
    "        n += 1 # increment seed value\n",
    "        random.seed(n)\n",
    "        \n",
    "        if response == 'y':\n",
    "            continue\n",
    "            \n",
    "        else:\n",
    "            print('bye!')\n",
    "            break\n",
    "        \n",
    "    else:\n",
    "        print(\"No. Please try again.\")\n",
    "        random.seed(n)\n",
    "        continue # redundant since the while loop will iterate again anyways, but provides clarity\n"
   ]
  },
  {
   "cell_type": "markdown",
   "metadata": {},
   "source": [
    "# Chapter 5 Exercises"
   ]
  },
  {
   "cell_type": "markdown",
   "metadata": {},
   "source": [
    "## 5.1 What's Wrong with This Code?"
   ]
  },
  {
   "cell_type": "markdown",
   "metadata": {},
   "source": [
    "Describe the error in each code snippet, then implement a corrected version of the same snippet."
   ]
  },
  {
   "cell_type": "markdown",
   "metadata": {},
   "source": [
    "### a."
   ]
  },
  {
   "cell_type": "markdown",
   "metadata": {},
   "source": [
    "`day, high_temperature = ('Monday', 87, 65)`"
   ]
  },
  {
   "cell_type": "markdown",
   "metadata": {},
   "source": [
    "There are too many values to unpack since there are 3 values in the tuple but only 2 variables in the assignment."
   ]
  },
  {
   "cell_type": "markdown",
   "metadata": {},
   "source": [
    "Corrected:"
   ]
  },
  {
   "cell_type": "code",
   "execution_count": 4,
   "metadata": {},
   "outputs": [],
   "source": [
    "day, high_temperature, low_temperature = ('Monday', 87, 65)"
   ]
  },
  {
   "cell_type": "markdown",
   "metadata": {},
   "source": [
    "### b."
   ]
  },
  {
   "cell_type": "markdown",
   "metadata": {},
   "source": [
    "`numbers = [1, 2, 3, 4, 5]\n",
    "numbers[10]`"
   ]
  },
  {
   "cell_type": "markdown",
   "metadata": {},
   "source": [
    "The user is attempting to access the element of the `numbers` at index 10, but `numbers` only has length `5` (i.e. the list index is out of range)."
   ]
  },
  {
   "cell_type": "markdown",
   "metadata": {},
   "source": [
    "Corrected:"
   ]
  },
  {
   "cell_type": "code",
   "execution_count": 5,
   "metadata": {},
   "outputs": [
    {
     "data": {
      "text/plain": [
       "3"
      ]
     },
     "execution_count": 5,
     "metadata": {},
     "output_type": "execute_result"
    }
   ],
   "source": [
    "numbers = [1, 2, 3, 4, 5]\n",
    "numbers[2]"
   ]
  },
  {
   "cell_type": "markdown",
   "metadata": {},
   "source": [
    "### c."
   ]
  },
  {
   "cell_type": "markdown",
   "metadata": {},
   "source": [
    "`name = 'amanda'\n",
    "name[0] = 'A'`"
   ]
  },
  {
   "cell_type": "markdown",
   "metadata": {},
   "source": [
    "Strings are immutable, so the 0th element (or any elements) of `name` cannot be modified."
   ]
  },
  {
   "cell_type": "markdown",
   "metadata": {},
   "source": [
    "Corrected:"
   ]
  },
  {
   "cell_type": "code",
   "execution_count": 6,
   "metadata": {},
   "outputs": [
    {
     "data": {
      "text/plain": [
       "'Amanda'"
      ]
     },
     "execution_count": 6,
     "metadata": {},
     "output_type": "execute_result"
    }
   ],
   "source": [
    "name = 'amanda'\n",
    "new_name = 'Amanda'\n",
    "new_name"
   ]
  },
  {
   "cell_type": "markdown",
   "metadata": {},
   "source": [
    "### d."
   ]
  },
  {
   "cell_type": "markdown",
   "metadata": {},
   "source": [
    "`numbers = [1, 2, 3, 4, 5]\n",
    "numbers[3.4]`"
   ]
  },
  {
   "cell_type": "markdown",
   "metadata": {},
   "source": [
    "List indices cannot be floats. They must be integers or slices."
   ]
  },
  {
   "cell_type": "markdown",
   "metadata": {},
   "source": [
    "Corrected:"
   ]
  },
  {
   "cell_type": "code",
   "execution_count": 8,
   "metadata": {},
   "outputs": [
    {
     "data": {
      "text/plain": [
       "4"
      ]
     },
     "execution_count": 8,
     "metadata": {},
     "output_type": "execute_result"
    }
   ],
   "source": [
    "numbers = [1, 2, 3, 4, 5]\n",
    "numbers[int(3.4)] # chops 3.4 to 3"
   ]
  },
  {
   "cell_type": "markdown",
   "metadata": {},
   "source": [
    "### e."
   ]
  },
  {
   "cell_type": "markdown",
   "metadata": {},
   "source": [
    "`student_tuple = ('Amanda', 'Blue', [98, 75, 87])\n",
    "student_tuple[0] = 'Ariana'`"
   ]
  },
  {
   "cell_type": "markdown",
   "metadata": {},
   "source": [
    "The user is trying to modify a tuple, but tuples are immutable."
   ]
  },
  {
   "cell_type": "markdown",
   "metadata": {},
   "source": [
    "Corrected:"
   ]
  },
  {
   "cell_type": "code",
   "execution_count": 41,
   "metadata": {},
   "outputs": [
    {
     "data": {
      "text/plain": [
       "('Ariana', 'Blue', [98, 75, 87])"
      ]
     },
     "execution_count": 41,
     "metadata": {},
     "output_type": "execute_result"
    }
   ],
   "source": [
    "student_tuple = ('Amanda', 'Blue', [98, 75, 87])\n",
    "new_tup = ('Ariana',) + ('Amanda', 'Blue', [98, 75, 87])[1:]\n",
    "new_tup"
   ]
  },
  {
   "cell_type": "markdown",
   "metadata": {},
   "source": [
    "### f."
   ]
  },
  {
   "cell_type": "markdown",
   "metadata": {},
   "source": [
    "`('Monday', 87, 65) + 'Tuesday'`"
   ]
  },
  {
   "cell_type": "markdown",
   "metadata": {},
   "source": [
    "Tuples can only be concatenated with other tuples."
   ]
  },
  {
   "cell_type": "markdown",
   "metadata": {},
   "source": [
    "Corrected:"
   ]
  },
  {
   "cell_type": "code",
   "execution_count": 14,
   "metadata": {},
   "outputs": [
    {
     "data": {
      "text/plain": [
       "('Monday', 87, 65, 'Tuesday')"
      ]
     },
     "execution_count": 14,
     "metadata": {},
     "output_type": "execute_result"
    }
   ],
   "source": [
    "('Monday', 87, 65) + ('Tuesday',)"
   ]
  },
  {
   "cell_type": "markdown",
   "metadata": {},
   "source": [
    "### g."
   ]
  },
  {
   "cell_type": "markdown",
   "metadata": {},
   "source": [
    "`'A' += ('B', 'C')`"
   ]
  },
  {
   "cell_type": "markdown",
   "metadata": {},
   "source": [
    "The `+=` operator can only be used with variables. Additionally, strings and tuples must be concatenated, so we need to use `('A',)` instead of just `'A'`."
   ]
  },
  {
   "cell_type": "markdown",
   "metadata": {},
   "source": [
    "Corrected:"
   ]
  },
  {
   "cell_type": "code",
   "execution_count": 23,
   "metadata": {},
   "outputs": [
    {
     "data": {
      "text/plain": [
       "('A', 'B', 'C')"
      ]
     },
     "execution_count": 23,
     "metadata": {},
     "output_type": "execute_result"
    }
   ],
   "source": [
    "a = ('A',)\n",
    "a += ('B', 'C')\n",
    "a"
   ]
  },
  {
   "cell_type": "markdown",
   "metadata": {},
   "source": [
    "### h."
   ]
  },
  {
   "cell_type": "markdown",
   "metadata": {},
   "source": [
    "`x = 7\n",
    "del x\n",
    "print(x)`"
   ]
  },
  {
   "cell_type": "markdown",
   "metadata": {},
   "source": [
    "The `del` command deletes the variable `x` from the current session, so the `print()` function doesn't recognize `x`."
   ]
  },
  {
   "cell_type": "markdown",
   "metadata": {},
   "source": [
    "Corrected:"
   ]
  },
  {
   "cell_type": "code",
   "execution_count": 9,
   "metadata": {},
   "outputs": [
    {
     "name": "stdout",
     "output_type": "stream",
     "text": [
      "7\n"
     ]
    }
   ],
   "source": [
    "x = 7\n",
    "del x\n",
    "print(7)"
   ]
  },
  {
   "cell_type": "markdown",
   "metadata": {},
   "source": [
    "### i."
   ]
  },
  {
   "cell_type": "markdown",
   "metadata": {},
   "source": [
    "`numbers = [1, 2, 3, 4, 5]\n",
    "numbers.index(10)`"
   ]
  },
  {
   "cell_type": "markdown",
   "metadata": {},
   "source": [
    "The `numbers.index(10)` call is intended to return the index of the value `10` in `numbers`, but `numbers` doesn't contain this value."
   ]
  },
  {
   "cell_type": "markdown",
   "metadata": {},
   "source": [
    "Corrected:"
   ]
  },
  {
   "cell_type": "code",
   "execution_count": 10,
   "metadata": {},
   "outputs": [
    {
     "data": {
      "text/plain": [
       "4"
      ]
     },
     "execution_count": 10,
     "metadata": {},
     "output_type": "execute_result"
    }
   ],
   "source": [
    "numbers = [1, 2, 3, 4, 10, 5]\n",
    "numbers.index(10)"
   ]
  },
  {
   "cell_type": "markdown",
   "metadata": {},
   "source": [
    "### j."
   ]
  },
  {
   "cell_type": "markdown",
   "metadata": {},
   "source": [
    "`numbers = [1, 2, 3, 4, 5]\n",
    "numbers.extend(6, 7, 8)`"
   ]
  },
  {
   "cell_type": "markdown",
   "metadata": {},
   "source": [
    "The `.extend()` list method only takes one argument (i.e. need to put 6, 7, and 8 into a list)."
   ]
  },
  {
   "cell_type": "markdown",
   "metadata": {},
   "source": [
    "Corrected:"
   ]
  },
  {
   "cell_type": "code",
   "execution_count": 11,
   "metadata": {},
   "outputs": [
    {
     "data": {
      "text/plain": [
       "[1, 2, 3, 4, 5, 6, 7, 8]"
      ]
     },
     "execution_count": 11,
     "metadata": {},
     "output_type": "execute_result"
    }
   ],
   "source": [
    "numbers = [1, 2, 3, 4, 5]\n",
    "numbers.extend([6, 7, 8])\n",
    "numbers"
   ]
  },
  {
   "cell_type": "markdown",
   "metadata": {},
   "source": [
    "### k."
   ]
  },
  {
   "cell_type": "markdown",
   "metadata": {},
   "source": [
    "`numbers = [1, 2, 3, 4, 5]\n",
    "numbers.remove(10)`"
   ]
  },
  {
   "cell_type": "markdown",
   "metadata": {},
   "source": [
    "The `.remove()` method is attempting to remove the element `10` from `numbers`, but `10` is not in `numbers`."
   ]
  },
  {
   "cell_type": "markdown",
   "metadata": {},
   "source": [
    "Corrected:"
   ]
  },
  {
   "cell_type": "code",
   "execution_count": 12,
   "metadata": {},
   "outputs": [
    {
     "data": {
      "text/plain": [
       "[1, 2, 3, 4, 5]"
      ]
     },
     "execution_count": 12,
     "metadata": {},
     "output_type": "execute_result"
    }
   ],
   "source": [
    "numbers = [1, 2, 3, 4, 10, 5]\n",
    "numbers.remove(10)\n",
    "numbers"
   ]
  },
  {
   "cell_type": "markdown",
   "metadata": {},
   "source": [
    "### l."
   ]
  },
  {
   "cell_type": "markdown",
   "metadata": {},
   "source": [
    "`values = []\n",
    "values.pop()`"
   ]
  },
  {
   "cell_type": "markdown",
   "metadata": {},
   "source": [
    "The `.pop` list method removes the last value in a list, so an empty list cannot have the `.pop()` method applied to it."
   ]
  },
  {
   "cell_type": "markdown",
   "metadata": {},
   "source": [
    "Corrected:"
   ]
  },
  {
   "cell_type": "code",
   "execution_count": 13,
   "metadata": {},
   "outputs": [
    {
     "data": {
      "text/plain": [
       "[1]"
      ]
     },
     "execution_count": 13,
     "metadata": {},
     "output_type": "execute_result"
    }
   ],
   "source": [
    "values = [1,2]\n",
    "values.pop()\n",
    "values"
   ]
  },
  {
   "cell_type": "markdown",
   "metadata": {},
   "source": [
    "## 5.6 Functions Returning Tuples"
   ]
  },
  {
   "cell_type": "markdown",
   "metadata": {},
   "source": [
    " Define a function `rotate` that receives three arguments and returns a tuple in which the first argument is at index `1`, the second argument is at index `2` and the third argument is at index `0`. Define variables `a`, `b` and `c` containing `'Doug'`, `22` and `1984`. Then call the function three times. For each call, unpack its result into `a`, `b` and `c`, then display their values."
   ]
  },
  {
   "cell_type": "code",
   "execution_count": 47,
   "metadata": {},
   "outputs": [
    {
     "name": "stdout",
     "output_type": "stream",
     "text": [
      "Initial display: Doug 22 1984\n",
      "After 1st call: 1984 Doug 22\n",
      "After 2nd call: 22 1984 Doug\n",
      "After 3rd call: Doug 22 1984\n"
     ]
    }
   ],
   "source": [
    "def rotate(a, b, c):\n",
    "    \"\"\"Generate a tuple with inputs rotated by one position\"\"\"\n",
    "    return (c, a, b)\n",
    "\n",
    "a = 'Doug'\n",
    "b = 22\n",
    "c = 1984\n",
    "\n",
    "print('Initial display:', a, b, c)\n",
    "\n",
    "a, b, c = rotate(a, b, c)\n",
    "print('After 1st call:', a, b, c)\n",
    "\n",
    "a, b, c = rotate(a, b, c)\n",
    "print('After 2nd call:', a, b, c)\n",
    "\n",
    "a, b, c = rotate(a, b, c)\n",
    "print('After 3rd call:', a, b, c)"
   ]
  },
  {
   "cell_type": "markdown",
   "metadata": {},
   "source": [
    "## 5.7 Duplicate Elimination"
   ]
  },
  {
   "cell_type": "markdown",
   "metadata": {},
   "source": [
    "Create a function that receives a list and returns a (possibly shorter) list containing only the unique values in sorted order. Test your function with a list of numbers and a list of strings."
   ]
  },
  {
   "cell_type": "code",
   "execution_count": 17,
   "metadata": {},
   "outputs": [
    {
     "name": "stdout",
     "output_type": "stream",
     "text": [
      "[1, 2, 3, 4]\n",
      "[0, 1, 4, 6, 7, 9, 10]\n",
      "['test', 'words', 'hello']\n"
     ]
    }
   ],
   "source": [
    "def elim_dups(list_in):\n",
    "    \"\"\"Remove duplicates from a list\"\"\"\n",
    "    list_in.sort()\n",
    "    return list(set(list_in))\n",
    "\n",
    "print(elim_dups([1, 2, 3, 4, 3, 2, 1]))\n",
    "print(elim_dups([1, 6, 0, 4, 7, 9, 0, 10, 4]))\n",
    "print(elim_dups(['test', 'words', 'test', 'words', 'hello']))\n"
   ]
  },
  {
   "cell_type": "markdown",
   "metadata": {},
   "source": [
    "## 5.14 Is a sequence sorted?"
   ]
  },
  {
   "cell_type": "markdown",
   "metadata": {},
   "source": [
    "Create a function `is_ordered` that receives a sequence and returns `True` if the elements are in sorted order. Test your function with sorted and unsorted lists, tuples and strings."
   ]
  },
  {
   "cell_type": "code",
   "execution_count": 18,
   "metadata": {},
   "outputs": [
    {
     "name": "stdout",
     "output_type": "stream",
     "text": [
      "True\n",
      "False\n",
      "True\n",
      "False\n"
     ]
    }
   ],
   "source": [
    "def is_ordered(seq_in):\n",
    "    \"\"\"Determine whether or not a sequence is sorted\"\"\"\n",
    "    for i in range(len(seq_in) - 1):\n",
    "        val_current, val_next = seq_in[i], seq_in[i + 1]\n",
    "        \n",
    "        if val_current > val_next:\n",
    "            return False\n",
    "        \n",
    "    return True\n",
    "    \n",
    "print(is_ordered('abc'))\n",
    "print(is_ordered([5,3,7,6,4]))\n",
    "print(is_ordered((4,5,7,50)))\n",
    "print(is_ordered('ccnam'))"
   ]
  },
  {
   "cell_type": "markdown",
   "metadata": {},
   "source": [
    "## 5.27 Data Science: Duplicate Elimination and Counting Frequencies"
   ]
  },
  {
   "cell_type": "markdown",
   "metadata": {},
   "source": [
    "Use a list comprehension to create a list of 50 random values in the range 1 through 10. Use NumPy’s `unique` function to obtain the unique values and their frequencies. Display the results."
   ]
  },
  {
   "cell_type": "code",
   "execution_count": 19,
   "metadata": {},
   "outputs": [
    {
     "name": "stdout",
     "output_type": "stream",
     "text": [
      "Unique values: [ 1  2  3  4  5  6  7  8  9 10]\n",
      "Unique value counts: [2 9 7 4 6 8 4 3 3 4]\n"
     ]
    }
   ],
   "source": [
    "import numpy as np\n",
    "from random import randrange\n",
    "\n",
    "# generate 50 random values between 1 and 10, form list with list comprehension\n",
    "rand_vals = [randrange(1,11) for i in range(50)]\n",
    "\n",
    "# display unique values and their counts\n",
    "unique_vals = np.unique(rand_vals, return_counts = True)\n",
    "vals, freqs = unique_vals\n",
    "print(f'Unique values: {vals}')\n",
    "print(f'Unique value counts: {freqs}')\n"
   ]
  },
  {
   "cell_type": "markdown",
   "metadata": {},
   "source": [
    "## 5.33 Data Science Challenge: Analyzing the Dice Game Craps"
   ]
  },
  {
   "cell_type": "markdown",
   "metadata": {},
   "source": [
    "The code below simulates the dice game Craps:"
   ]
  },
  {
   "cell_type": "code",
   "execution_count": 56,
   "metadata": {},
   "outputs": [
    {
     "name": "stdout",
     "output_type": "stream",
     "text": [
      "How many games of Craps would you like to play? 10000\n"
     ]
    }
   ],
   "source": [
    "import random\n",
    "\n",
    "def roll_dice():\n",
    "    \"\"\"Roll two dice and return their face values as a tuple.\"\"\"\n",
    "    die1 = random.randrange(1, 7)\n",
    "    die2 = random.randrange(1, 7)\n",
    "    return (die1, die2)  # pack die face values into a tuple\n",
    "\n",
    "def display_dice(dice):\n",
    "    \"\"\"Display one roll of the two dice.\"\"\"\n",
    "    die1, die2 = dice  # unpack the tuple into variables die1 and die2\n",
    "    print(f'Player rolled {die1} + {die2} = {sum(dice)}')\n",
    "\n",
    "num_games = int(input('How many games of Craps would you like to play? '))\n",
    "ending_turn_win_nums = []\n",
    "ending_turn_lose_nums = []\n",
    "\n",
    "for game in range(1, num_games + 1):\n",
    "    \n",
    "    # print(f'Game number {game}:')\n",
    "    \n",
    "    die_values = roll_dice()  # first roll\n",
    "    # display_dice(die_values)\n",
    "    roll_count = 0 # initialize roll counter at the beginning of each game\n",
    "    \n",
    "    # determine game status and point based on first roll\n",
    "    sum_of_dice = sum(die_values)\n",
    "    roll_count += 1\n",
    "    \n",
    "    if sum_of_dice in (7, 11):  # win\n",
    "        game_status = 'WON'\n",
    "    elif sum_of_dice in (2, 3, 12):  # lose\n",
    "        game_status = 'LOST'\n",
    "    else: # remember point\n",
    "        game_status = 'CONTINUE'\n",
    "        my_point = sum_of_dice\n",
    "        # print('Point is', my_point)\n",
    "        \n",
    "    # continue rolling until player wins or loses\n",
    "    while game_status == 'CONTINUE':\n",
    "        die_values = roll_dice()\n",
    "        roll_count += 1\n",
    "        # display_dice(die_values)\n",
    "        sum_of_dice = sum(die_values)\n",
    "        \n",
    "        if sum_of_dice == my_point: # win by making point\n",
    "            game_status = 'WON'\n",
    "            \n",
    "        elif sum_of_dice == 7: # lose by rolling 7\n",
    "            game_status = 'LOST'\n",
    "            \n",
    "    # display \"wins\" or \"loses\" message\n",
    "    if game_status == 'WON':\n",
    "        # print('Player wins')\n",
    "        ending_turn_win_nums.append(roll_count)\n",
    "        \n",
    "    else:\n",
    "        # print('Player loses')\n",
    "        ending_turn_lose_nums.append(roll_count)\n",
    "\n",
    "for i, val in enumerate(ending_turn_win_nums):\n",
    "    if val > 12:\n",
    "        ending_turn_win_nums[i] = 13\n",
    "        \n",
    "for i, val in enumerate(ending_turn_lose_nums):\n",
    "    if val > 12:\n",
    "        ending_turn_lose_nums[i] = 13\n",
    "    "
   ]
  },
  {
   "cell_type": "markdown",
   "metadata": {},
   "source": [
    "### a."
   ]
  },
  {
   "cell_type": "markdown",
   "metadata": {},
   "source": [
    "Display a horizontal bar plot indicating how many games are won and how many are lost on the first roll, second roll, third roll, etc."
   ]
  },
  {
   "cell_type": "code",
   "execution_count": 57,
   "metadata": {},
   "outputs": [
    {
     "data": {
      "image/png": "[encoded data removed]",
      "text/plain": [
       "<Figure size 432x288 with 1 Axes>"
      ]
     },
     "metadata": {},
     "output_type": "display_data"
    }
   ],
   "source": [
    "win_vals, win_freqs = np.unique(ending_turn_win_nums, return_counts = True)\n",
    "lose_vals, lose_freqs = np.unique(ending_turn_lose_nums, return_counts = True)\n",
    "\n",
    "import numpy as np\n",
    "import matplotlib.pyplot as plt\n",
    "import seaborn as sns\n",
    "import pandas as pd\n",
    "\n",
    "roll_cnt_yaxes = ['1', '2', '3', '4', '5', '6', '7', '8', '9', '10', '11', '12', '13+']\n",
    "\n",
    "pd_dict = {\"Count\": np.concatenate((win_freqs, lose_freqs)),\n",
    "           \"Roll Count\": roll_cnt_yaxes * 2,\n",
    "           \"Status\": [\"Win\" for i in range(13)] + [\"Lost\" for i in range(13)]\n",
    "        }\n",
    "df = pd.DataFrame(pd_dict)\n",
    "\n",
    "title = f'Count of wins and losses of the dice game Craps ({num_games} games).'\n",
    "\n",
    "sns.set_style('whitegrid')\n",
    "axes = sns.barplot(x = 'Count', y = 'Roll Count', data = df, hue = 'Status')\n",
    "axes.set_title(title)\n",
    "plt.show()\n"
   ]
  },
  {
   "cell_type": "markdown",
   "metadata": {},
   "source": [
    "### b."
   ]
  },
  {
   "cell_type": "markdown",
   "metadata": {},
   "source": [
    "What are the chances of winning at craps?"
   ]
  },
  {
   "cell_type": "code",
   "execution_count": 58,
   "metadata": {},
   "outputs": [
    {
     "data": {
      "text/plain": [
       "0.4948"
      ]
     },
     "execution_count": 58,
     "metadata": {},
     "output_type": "execute_result"
    }
   ],
   "source": [
    "odds = sum(win_freqs) / (sum(lose_freqs) + sum(win_freqs))\n",
    "odds # roughly 50% chance of winning\n"
   ]
  },
  {
   "cell_type": "markdown",
   "metadata": {},
   "source": [
    "### c."
   ]
  },
  {
   "cell_type": "markdown",
   "metadata": {},
   "source": [
    "What is the mean for the length of a game of craps? The median? The mode?"
   ]
  },
  {
   "cell_type": "code",
   "execution_count": 59,
   "metadata": {},
   "outputs": [
    {
     "name": "stdout",
     "output_type": "stream",
     "text": [
      "Mean length of a game of Craps: 3.3928\n",
      "Median length of a game of Craps: 2.0\n",
      "Mode length of a game of Craps: 1\n"
     ]
    }
   ],
   "source": [
    "from statistics import mean\n",
    "from statistics import median\n",
    "from statistics import mode\n",
    "\n",
    "# make a list of all roll counts\n",
    "all_games = ending_turn_win_nums + ending_turn_lose_nums\n",
    "\n",
    "print('Mean length of a game of Craps:', mean(all_games))\n",
    "print('Median length of a game of Craps:', median(all_games))\n",
    "print('Mode length of a game of Craps:', mode(all_games))\n"
   ]
  },
  {
   "cell_type": "markdown",
   "metadata": {},
   "source": [
    "### d."
   ]
  },
  {
   "cell_type": "markdown",
   "metadata": {},
   "source": [
    "Do the chances of winning improve with the length of the game?"
   ]
  },
  {
   "cell_type": "markdown",
   "metadata": {},
   "source": [
    "Per the plot in (a), we can see that the chance of winning drops off heavily after the first roll. After that, the relative chance of winning stays fairly constant."
   ]
  }
 ],
 "metadata": {
  "kernelspec": {
   "display_name": "Python 3",
   "language": "python",
   "name": "python3"
  },
  "language_info": {
   "codemirror_mode": {
    "name": "ipython",
    "version": 3
   },
   "file_extension": ".py",
   "mimetype": "text/x-python",
   "name": "python",
   "nbconvert_exporter": "python",
   "pygments_lexer": "ipython3",
   "version": "3.7.9"
  }
 },
 "nbformat": 4,
 "nbformat_minor": 4
}
