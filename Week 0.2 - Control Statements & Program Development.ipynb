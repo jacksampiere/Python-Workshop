{
 "cells": [
  {
   "cell_type": "markdown",
   "metadata": {},
   "source": [
    "# Chapter 3 Exercises"
   ]
  },
  {
   "cell_type": "markdown",
   "metadata": {},
   "source": [
    "## 3.3 What Does This Code Do?"
   ]
  },
  {
   "cell_type": "markdown",
   "metadata": {},
   "source": [
    "What does the following program print?\n",
    "```python\n",
    "for row in range(10):\n",
    "    for column in range(10):\n",
    "        print('<' if row % 2 == 1 else '>', end='')\n",
    "    print()\n",
    "```"
   ]
  },
  {
   "cell_type": "markdown",
   "metadata": {},
   "source": [
    "This code prints 10 rows of 10 characters with each row alternating between the `<` and `>` characters. Each row is placed on a new line."
   ]
  },
  {
   "cell_type": "code",
   "execution_count": 1,
   "metadata": {},
   "outputs": [
    {
     "name": "stdout",
     "output_type": "stream",
     "text": [
      ">>>>>>>>>>\n",
      "<<<<<<<<<<\n",
      ">>>>>>>>>>\n",
      "<<<<<<<<<<\n",
      ">>>>>>>>>>\n",
      "<<<<<<<<<<\n",
      ">>>>>>>>>>\n",
      "<<<<<<<<<<\n",
      ">>>>>>>>>>\n",
      "<<<<<<<<<<\n"
     ]
    }
   ],
   "source": [
    "for row in range(10):\n",
    "    for column in range(10):\n",
    "        print('<' if row % 2 == 1 else '>', end='')\n",
    "    print()\n"
   ]
  },
  {
   "cell_type": "markdown",
   "metadata": {},
   "source": [
    "## 3.10 7% Investment Return"
   ]
  },
  {
   "cell_type": "markdown",
   "metadata": {},
   "source": [
    "Reimplement Exercise 2.12 to use a loop that calculates and displays the amount of money you’ll have each year at the ends of years 1 through 30."
   ]
  },
  {
   "cell_type": "code",
   "execution_count": 2,
   "metadata": {},
   "outputs": [
    {
     "name": "stdout",
     "output_type": "stream",
     "text": [
      " 1   1070.00\n",
      " 2   1144.90\n",
      " 3   1225.04\n",
      " 4   1310.80\n",
      " 5   1402.55\n",
      " 6   1500.73\n",
      " 7   1605.78\n",
      " 8   1718.19\n",
      " 9   1838.46\n",
      "10   1967.15\n",
      "11   2104.85\n",
      "12   2252.19\n",
      "13   2409.85\n",
      "14   2578.53\n",
      "15   2759.03\n",
      "16   2952.16\n",
      "17   3158.82\n",
      "18   3379.93\n",
      "19   3616.53\n",
      "20   3869.68\n",
      "21   4140.56\n",
      "22   4430.40\n",
      "23   4740.53\n",
      "24   5072.37\n",
      "25   5427.43\n",
      "26   5807.35\n",
      "27   6213.87\n",
      "28   6648.84\n",
      "29   7114.26\n",
      "30   7612.26\n"
     ]
    }
   ],
   "source": [
    "from decimal import Decimal\n",
    "\n",
    "principal = Decimal('1000.00') # use Decimal() to avoid precision lost by floating point arithmetic\n",
    "rate = Decimal('0.07')\n",
    "\n",
    "for n in range(1,31):\n",
    "    amount = principal * (1 + rate) ** n\n",
    "    print(f'{n:>2}{amount:>10.2f}')\n"
   ]
  },
  {
   "cell_type": "markdown",
   "metadata": {},
   "source": [
    "## 3.13 Factorials"
   ]
  },
  {
   "cell_type": "code",
   "execution_count": 3,
   "metadata": {},
   "outputs": [
    {
     "name": "stdout",
     "output_type": "stream",
     "text": [
      "720\n"
     ]
    }
   ],
   "source": [
    "number = 6\n",
    "# number = 5\n",
    "# number = 4\n",
    "prod = 1\n",
    "\n",
    "for element in range(number, 0, -1):\n",
    "    prod *= element\n",
    "    \n",
    "print(prod)\n",
    "\n",
    "# note: if defining a function to compute factorials, we would want to include exceptions for 0 and negatives\n",
    "# optimal way to make a factorial function is with recursion\n"
   ]
  },
  {
   "cell_type": "markdown",
   "metadata": {},
   "source": [
    "## 3.31 Categorical Data"
   ]
  },
  {
   "cell_type": "markdown",
   "metadata": {},
   "source": [
    "Mean, median and mode work well with numerical values. Which if any of the descriptive statistics are appropriate for categorical data?"
   ]
  },
  {
   "cell_type": "markdown",
   "metadata": {},
   "source": [
    "Mode is an appropriate descriptive statistic for categorical data. Even though the values are't necessarily numeric, it is still possible to identify which of the categories appear most often."
   ]
  },
  {
   "cell_type": "markdown",
   "metadata": {},
   "source": [
    "## 3.23 Validating Indentation"
   ]
  },
  {
   "cell_type": "markdown",
   "metadata": {},
   "source": [
    "The Python Standard Library includes a code indentation validator module named `tabnanny`, which you can run as a script to check your code for proper indentation. Execute the following command in the ch03 folder to see the results of analyzing validate_indents.py:\n",
    "\n",
    "`python -m tabnanny validate_indents.py`\n",
    "\n",
    "Suppose you accidentally aligned the second print statement under the i in the if keyword. What kind of error would that be? Would you expect tabnanny to flag that as an error?"
   ]
  },
  {
   "cell_type": "markdown",
   "metadata": {},
   "source": [
    "```python\n",
    "grade = 93\n",
    "\n",
    "if grade >= 90:\n",
    "    print('A')\n",
    "  print('Great Job!')\n",
    "   print('Take a break from studying')\n",
    "```"
   ]
  },
  {
   "cell_type": "markdown",
   "metadata": {},
   "source": [
    "Upon running the command `python -m tabnanny validate_indents.py`, the command prompt displayed information about the indentation error and also specified the line in which it occurred. If you were to align the second print statement under the i in the `if` keyword, this would be a logic error since the print statement would run fine but it would not be doing what the programmer presumably intended. This is because the print statement would not be in the suite of the `if` statement and thus it would be executed regardless of whether or not the condition in the `if` statement were to be satisfied. I would not expect tabnanny to flag this as an error."
   ]
  },
  {
   "cell_type": "markdown",
   "metadata": {},
   "source": [
    "## 3.17 Nested Loops"
   ]
  },
  {
   "cell_type": "markdown",
   "metadata": {},
   "source": [
    "Write a script that displays the following triangle patterns separately, one below the other. Separate each pattern from the next by one blank line. Use for loops to generate the patterns. Display all asterisks (*) with a single statement of the form\n",
    "\n",
    "`print('*', end='')`\n",
    "\n",
    "which causes the asterisks to display side by side."
   ]
  },
  {
   "cell_type": "code",
   "execution_count": 4,
   "metadata": {
    "jupyter": {
     "source_hidden": true
    }
   },
   "outputs": [
    {
     "name": "stdout",
     "output_type": "stream",
     "text": [
      "\n",
      "    (a)         (b)         (c)        (d)\n",
      "    *           **********  **********           *\n",
      "    **          *********    *********          **\n",
      "    ***         ********      ********         ***\n",
      "    ****        *******        *******        ****\n",
      "    *****       ******          ******       *****\n",
      "    ******      *****            *****      ******\n",
      "    *******     ****              ****     *******\n",
      "    ********    ***                ***    ********\n",
      "    *********   **                  **   *********\n",
      "    **********  *                    *  **********\n",
      "    \n"
     ]
    }
   ],
   "source": [
    "print(\"\"\"\n",
    "    (a)         (b)         (c)        (d)\n",
    "    *           **********  **********           *\n",
    "    **          *********    *********          **\n",
    "    ***         ********      ********         ***\n",
    "    ****        *******        *******        ****\n",
    "    *****       ******          ******       *****\n",
    "    ******      *****            *****      ******\n",
    "    *******     ****              ****     *******\n",
    "    ********    ***                ***    ********\n",
    "    *********   **                  **   *********\n",
    "    **********  *                    *  **********\n",
    "    \"\"\")\n"
   ]
  },
  {
   "cell_type": "markdown",
   "metadata": {},
   "source": [
    "### (a)"
   ]
  },
  {
   "cell_type": "code",
   "execution_count": 5,
   "metadata": {},
   "outputs": [
    {
     "name": "stdout",
     "output_type": "stream",
     "text": [
      "\n",
      "*\n",
      "**\n",
      "***\n",
      "****\n",
      "*****\n",
      "******\n",
      "*******\n",
      "********\n",
      "*********\n",
      "**********"
     ]
    }
   ],
   "source": [
    "for i in range(10):\n",
    "    print()\n",
    "    \n",
    "    for j in range(i + 1):\n",
    "        print('*', end = '')\n"
   ]
  },
  {
   "cell_type": "markdown",
   "metadata": {},
   "source": [
    "### (b)"
   ]
  },
  {
   "cell_type": "code",
   "execution_count": 6,
   "metadata": {},
   "outputs": [
    {
     "name": "stdout",
     "output_type": "stream",
     "text": [
      "**********\n",
      "*********\n",
      "********\n",
      "*******\n",
      "******\n",
      "*****\n",
      "****\n",
      "***\n",
      "**\n",
      "*\n"
     ]
    }
   ],
   "source": [
    "for i in range(10, 0, -1):\n",
    "    \n",
    "    for j in range(i):\n",
    "        print('*', end = '')\n",
    "        \n",
    "    print()\n",
    "  "
   ]
  },
  {
   "cell_type": "markdown",
   "metadata": {},
   "source": [
    "### (c)"
   ]
  },
  {
   "cell_type": "code",
   "execution_count": 7,
   "metadata": {},
   "outputs": [
    {
     "name": "stdout",
     "output_type": "stream",
     "text": [
      "**********\n",
      " *********\n",
      "  ********\n",
      "   *******\n",
      "    ******\n",
      "     *****\n",
      "      ****\n",
      "       ***\n",
      "        **\n",
      "         *\n"
     ]
    }
   ],
   "source": [
    "for i in range(10, 0, -1):\n",
    "    \n",
    "    for j in range(10 - i):\n",
    "        print(' ', end = '')\n",
    "        \n",
    "    for k in range(i):\n",
    "        print('*', end = '')\n",
    "        \n",
    "    print()\n"
   ]
  },
  {
   "cell_type": "markdown",
   "metadata": {},
   "source": [
    "### (d)"
   ]
  },
  {
   "cell_type": "code",
   "execution_count": 8,
   "metadata": {},
   "outputs": [
    {
     "name": "stdout",
     "output_type": "stream",
     "text": [
      "         *\n",
      "        **\n",
      "       ***\n",
      "      ****\n",
      "     *****\n",
      "    ******\n",
      "   *******\n",
      "  ********\n",
      " *********\n",
      "**********\n"
     ]
    }
   ],
   "source": [
    "for i in range(10):\n",
    "    \n",
    "    for j in range(10 - i - 1):\n",
    "        print(' ', end = '')\n",
    "        \n",
    "    for k in range(i + 1):\n",
    "        print('*', end = '')\n",
    "        \n",
    "    print()\n"
   ]
  },
  {
   "cell_type": "markdown",
   "metadata": {},
   "source": [
    "## 3.14 Math Challenge: Approximating the Consant pi (Optional exercise)"
   ]
  },
  {
   "attachments": {
    "62fc8f6a-d9dd-4ded-9960-35e754a1e0e3.png": {
     "image/png": "[encoded data removed]"
    }
   },
   "cell_type": "markdown",
   "metadata": {},
   "source": [
    "Write a script that computes the value of π from the following infinite series. Print a table that shows the value of π approximated by one term of this series, by two terms, by three terms, and so on.\n",
    "\n",
    "![image.png](attachment:62fc8f6a-d9dd-4ded-9960-35e754a1e0e3.png)"
   ]
  },
  {
   "cell_type": "code",
   "execution_count": 9,
   "metadata": {},
   "outputs": [
    {
     "name": "stdout",
     "output_type": "stream",
     "text": [
      " 1  4.000000\n",
      " 2  2.666667\n",
      " 3  3.466667\n",
      " 4  2.895238\n",
      " 5  3.339683\n",
      " 6  2.976046\n",
      " 7  3.283738\n",
      " 8  3.017072\n",
      " 9  3.252366\n",
      "10  3.041840\n"
     ]
    }
   ],
   "source": [
    "pi_approx = 0\n",
    "iterations = 10 # note: need roughly 380,000 iterations to get 3.14159\n",
    "to_iterate = range(1, iterations * 2, 2)\n",
    "\n",
    "for i in range(iterations):\n",
    "    denom = 2 * i + 1\n",
    "    \n",
    "    if i % 2 == 0:\n",
    "        pi_approx += 4 / denom\n",
    "        \n",
    "    else:\n",
    "        pi_approx -= 4 / denom\n",
    "        \n",
    "    print(f'{i+1:>2}{pi_approx:>10f}')\n"
   ]
  },
  {
   "cell_type": "markdown",
   "metadata": {},
   "source": [
    "## 3.18 Challenge: Nested Loops"
   ]
  },
  {
   "cell_type": "markdown",
   "metadata": {},
   "source": [
    "Modify your script from Exercise 3.17 to display all four patterns side-by-side by making clever use of nested for loops. Separate each triangle from the next by three horizontal spaces."
   ]
  },
  {
   "cell_type": "code",
   "execution_count": 10,
   "metadata": {},
   "outputs": [
    {
     "name": "stdout",
     "output_type": "stream",
     "text": [
      "*            **********   **********            *\n",
      "**           *********     *********           **\n",
      "***          ********       ********          ***\n",
      "****         *******         *******         ****\n",
      "*****        ******           ******        *****\n",
      "******       *****             *****       ******\n",
      "*******      ****               ****      *******\n",
      "********     ***                 ***     ********\n",
      "*********    **                   **    *********\n",
      "**********   *                     *   **********\n"
     ]
    }
   ],
   "source": [
    "for i in range(1, 11):\n",
    "    \n",
    "    # implement loops for (a)\n",
    "    for a1 in range(i):\n",
    "        print('*', end = '')\n",
    "        \n",
    "    for a2 in range(10 - i):\n",
    "        print(' ', end = '')\n",
    "        \n",
    "    print('   ', end = '') # add 3 spaces\n",
    "    \n",
    "    # implement loops for (b)\n",
    "    for b1 in range(11 - i):\n",
    "        print('*', end = '')\n",
    "        \n",
    "    for b2 in range(i - 1):\n",
    "        print(' ', end = '')\n",
    "    \n",
    "    print('   ', end = '') # add 3 spaces\n",
    "    \n",
    "    # implement loops for (c)\n",
    "    for c1 in range(i - 1):\n",
    "        print(' ', end = '')\n",
    "        \n",
    "    for c2 in range(11 - i):\n",
    "        print('*', end = '')\n",
    "    \n",
    "    print('   ', end = '') # add 3 spaces\n",
    "    \n",
    "    # implement loops for (d)\n",
    "    for d1 in range(10 - i):\n",
    "        print(' ', end = '')\n",
    "        \n",
    "    for d2 in range(i):\n",
    "        print('*', end = '')\n",
    "    \n",
    "    print() # move to new line for next row\n"
   ]
  },
  {
   "cell_type": "markdown",
   "metadata": {},
   "source": [
    "## 3.24 Project: Using the prospector Static Code Analysis Tool"
   ]
  },
  {
   "cell_type": "markdown",
   "metadata": {},
   "source": [
    "The prospector tool runs several popular static code analysis tools to check your Python code for common errors and to help you improve your code. Check that you’ve installed prospector. Run prospector on each of the scripts in this chapter. Study the output to see the kinds of issues prospector locates in Python code. In general, run prospector on all new code you create."
   ]
  },
  {
   "cell_type": "markdown",
   "metadata": {},
   "source": [
    "Upon running the command `prospector --strictness veryhigh --doc-warnings`, the command prompt displayed messages about various scripts and how the code might be improved. For example, the message\n",
    "```\n",
    "snippets_py\\03_03selfcheck.py\n",
    "  Line: 1\n",
    "    pylint: invalid-name / Module name \"03_03selfcheck\" doesn't conform to snake_case naming style\n",
    "```\n",
    "tells us about certain aspects of the code in 03_03selfcheck.py script and how they might be improved according to naming conventions."
   ]
  },
  {
   "cell_type": "markdown",
   "metadata": {},
   "source": [
    "## 3.26 Research: Anscombe's Quartet (completed)"
   ]
  },
  {
   "cell_type": "markdown",
   "metadata": {},
   "source": [
    "In this book’s data science case studies, we’ll emphasize the importance of “getting to know your data.” The basic descriptive statistics that you’ve seen in this chapter’s and the previous chapter’s Intro to Data Science sections certainly help you know more about your data. One caution, though, is that different datasets can have identical or nearly identical descriptive statistics and yet the data can be significantly different. For an example of this phenomenon, research Anscombe’s Quartet. You should find four datasets and the associated visualizations. It’s the visualizations that convince you the datasets are quite different.\n"
   ]
  }
 ],
 "metadata": {
  "kernelspec": {
   "display_name": "Python 3",
   "language": "python",
   "name": "python3"
  },
  "language_info": {
   "codemirror_mode": {
    "name": "ipython",
    "version": 3
   },
   "file_extension": ".py",
   "mimetype": "text/x-python",
   "name": "python",
   "nbconvert_exporter": "python",
   "pygments_lexer": "ipython3",
   "version": "3.7.9"
  }
 },
 "nbformat": 4,
 "nbformat_minor": 4
}
